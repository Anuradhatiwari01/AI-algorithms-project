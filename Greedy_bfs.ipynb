{
 "cells": [
  {
   "cell_type": "markdown",
   "id": "15ae8807",
   "metadata": {},
   "source": [
    "# Greedy BFS"
   ]
  },
  {
   "cell_type": "markdown",
   "id": "06f07a46",
   "metadata": {},
   "source": [
    "Examples of different dimensions of maze."
   ]
  },
  {
   "cell_type": "code",
   "execution_count": 1,
   "id": "10c0f273",
   "metadata": {},
   "outputs": [],
   "source": [
    "\n",
    "maze1 = [\n",
    "    ['A', 0, 0, 0, 'B'],\n",
    "    [1,   1, 1, 1,  0],\n",
    "    [0,   0, 0, 0,  0],\n",
    "    [0,   1, 1, 1,  0],\n",
    "    [0,   0, 0, 0,  0],\n",
    "]\n",
    "\n",
    "maze2 = [\n",
    "    ['A', 0,   1,  0, 0, 0],\n",
    "    [1,   0,   1,  0, 1, 0],\n",
    "    [0,   0,   0,  0, 1, 0],\n",
    "    [0,   1,   1,  1, 1, 0],\n",
    "    [0,   0,   0,  0, 0, 0],\n",
    "    [0,   1,   1,  1, 1,'B'],\n",
    "]\n",
    "\n",
    "maze3 = [\n",
    "    ['A', 0,  1,  0, 0, 0, 0, 0],\n",
    "    [0,   0,  1,  0, 1, 1, 1, 0],\n",
    "    [0,   1,  1,  0, 0, 0, 1, 0],\n",
    "    [0,   0,  0,  0, 1, 0, 1, 0],\n",
    "    [1,   1,  1,  0, 1, 0, 0, 0],\n",
    "    [0,   0,  0,  0, 0, 1, 1, 0],\n",
    "    [0,   1,  1,  1, 0, 0, 0, 0],\n",
    "    [0,   0,  0,  0, 0, 1, 1,'B'],\n",
    "]\n",
    "\n",
    "maze4 = [\n",
    "    ['A', 0,  1,  0,  0,  0, 1, 0, 0, 0],\n",
    "    [0,   0,  1,  0,  1,  0, 1, 0, 1, 0],\n",
    "    [1,   0,  0,  0,  1,  0, 0, 0, 1, 0],\n",
    "    [0,   1,  1,  0,  0,  1, 1, 0, 0, 0],\n",
    "    [0,   0,  0,  0,  1,  0, 1, 1, 1, 0],\n",
    "    [1,   1,  1,  0,  1,  0, 0, 0, 1, 0],\n",
    "    [0,   0,  1,  0,  0,  0, 1, 0, 0, 0],\n",
    "    [0,   1,  0,  1,  1,  0, 1, 1, 1, 0],\n",
    "    [0,   0,  0,  0,  0,  0, 0, 0, 1, 0],\n",
    "    [1,   1,  1,  1,  1,  1, 0, 1, 0,'B'],\n",
    "]\n",
    "\n",
    "maze5 = [\n",
    "    ['A', 0,  1,  0,  0,  0, 1, 0, 0, 1, 0, 0],\n",
    "    [0,   0,  1,  0,  1,  0, 1, 0, 1, 0, 0, 0],\n",
    "    [1,   0,  0,  0,  1,  0, 0, 0, 1, 1, 1, 0],\n",
    "    [0,   1,  1,  0,  0,  1, 1, 0, 0, 0, 1, 0],\n",
    "    [0,   0,  0,  0,  1,  0, 1, 1, 1, 0, 0, 0],\n",
    "    [1,   1,  1,  0,  1,  0, 0, 0, 1, 1, 1, 0],\n",
    "    [0,   0,  1,  0,  0,  0, 1, 0, 0, 0, 1, 0],\n",
    "    [0,   1,  0,  1,  1,  0, 1, 1, 1, 0, 1, 0],\n",
    "    [0,   0,  0,  0,  0,  0, 0, 0, 1, 0, 0, 0],\n",
    "    [1,   1,  1,  1,  1,  1, 0, 1, 0, 1, 1, 0],\n",
    "    [0,   0,  0,  0,  0,  0, 0, 1, 0, 0, 0, 0],\n",
    "    [0,   1,  1,  1,  1,  1, 1, 1, 1, 1, 1,'B'],\n",
    "]"
   ]
  },
  {
   "cell_type": "markdown",
   "id": "d6c05cdd",
   "metadata": {},
   "source": [
    "Code Initialization"
   ]
  },
  {
   "cell_type": "code",
   "execution_count": 2,
   "id": "e327f9a7",
   "metadata": {},
   "outputs": [],
   "source": [
    "import heapq   # for priority queue\n",
    "\n",
    "def manhattan(a, b):\n",
    "    \"\"\"Heuristic: Manhattan distance (works for 4-direction grid).\"\"\"\n",
    "    return abs(a[0] - b[0]) + abs(a[1] - b[1])"
   ]
  },
  {
   "cell_type": "markdown",
   "id": "338d068f",
   "metadata": {},
   "source": [
    "\n",
    "Maze class definition and working"
   ]
  },
  {
   "cell_type": "code",
   "execution_count": 3,
   "id": "53731b57",
   "metadata": {},
   "outputs": [],
   "source": [
    "class Maze:\n",
    "    def __init__(self, grid, diagonal=False):\n",
    "        \"\"\"\n",
    "        grid : 2D list containing:\n",
    "            'A' = start\n",
    "            'B' = goal\n",
    "            0   = free cell\n",
    "            1   = wall\n",
    "        diagonal : whether diagonal moves are allowed\n",
    "        \"\"\"\n",
    "        self.grid = grid\n",
    "        self.diagonal = diagonal\n",
    "        self.start, self.goal = self.find_start_goal()\n",
    "        \n",
    "        if self.start is None or self.goal is None:\n",
    "            raise ValueError(\"Maze must have 'A' (start) and 'B' (goal).\")\n",
    "\n",
    "    def find_start_goal(self):\n",
    "        \"\"\"Scan the grid and find A (start) and B (goal).\"\"\"\n",
    "        start = None\n",
    "        goal = None\n",
    "        for i in range(len(self.grid)):\n",
    "            for j in range(len(self.grid[0])):\n",
    "                if self.grid[i][j] == 'A':\n",
    "                    start = (i, j)\n",
    "                elif self.grid[i][j] == 'B':\n",
    "                    goal = (i, j)\n",
    "        return start, goal\n",
    "\n",
    "    def in_bounds(self, pos):\n",
    "        \"\"\"Check if a cell is inside the maze.\"\"\"\n",
    "        x, y = pos\n",
    "        return 0 <= x < len(self.grid) and 0 <= y < len(self.grid[0])\n",
    "\n",
    "    def passable(self, pos):\n",
    "        \"\"\"Check if a cell is not a wall.\"\"\"\n",
    "        x, y = pos\n",
    "        return self.grid[x][y] != 1\n",
    "\n",
    "    def neighbors(self, pos):\n",
    "        \"\"\"Return list of valid neighbor cells.\"\"\"\n",
    "        x, y = pos\n",
    "        if self.diagonal:\n",
    "            directions = [(-1,0),(1,0),(0,-1),(0,1),(-1,-1),(-1,1),(1,-1),(1,1)]\n",
    "        else:\n",
    "            directions = [(-1,0),(1,0),(0,-1),(0,1)]\n",
    "\n",
    "        result = []\n",
    "        for dx, dy in directions:\n",
    "            new_pos = (x+dx, y+dy)\n",
    "            if self.in_bounds(new_pos) and self.passable(new_pos):\n",
    "                result.append(new_pos)\n",
    "        return result"
   ]
  },
  {
   "cell_type": "markdown",
   "id": "85a3a0df",
   "metadata": {},
   "source": [
    "\n",
    "Greedy BFS code class"
   ]
  },
  {
   "cell_type": "code",
   "execution_count": 4,
   "id": "5a22cf24",
   "metadata": {},
   "outputs": [],
   "source": [
    "class GreedyBestFirstSolver:\n",
    "    def __init__(self, maze, heuristic=manhattan):\n",
    "        self.maze = maze\n",
    "        self.heuristic = heuristic\n",
    "\n",
    "    def solve(self):\n",
    "        start = self.maze.start\n",
    "        goal = self.maze.goal\n",
    "\n",
    "        # Priority Queue: stores (priority, cell)\n",
    "        pq = []\n",
    "        heapq.heappush(pq, (self.heuristic(start, goal), start))\n",
    "\n",
    "        came_from = {start: None}\n",
    "        visited = set()\n",
    "\n",
    "        while pq:\n",
    "            # Take the cell that looks closest to goal\n",
    "            _, current = heapq.heappop(pq)\n",
    "\n",
    "            if current in visited:\n",
    "                continue\n",
    "            visited.add(current)\n",
    "\n",
    "            # Goal reached\n",
    "            if current == goal:\n",
    "                return self.reconstruct_path(came_from, goal)\n",
    "\n",
    "            # Explore neighbors\n",
    "            for nb in self.maze.neighbors(current):\n",
    "                if nb not in visited:\n",
    "                    if nb not in came_from:\n",
    "                        came_from[nb] = current\n",
    "                    heapq.heappush(pq, (self.heuristic(nb, goal), nb))\n",
    "\n",
    "        # No path found\n",
    "        return []\n",
    "\n",
    "    def reconstruct_path(self, came_from, goal):\n",
    "        \"\"\"Rebuild the path from goal back to start.\"\"\"\n",
    "        path = []\n",
    "        current = goal\n",
    "        while current is not None:\n",
    "            path.append(current)\n",
    "            current = came_from.get(current)\n",
    "        path.reverse()\n",
    "        return path\n",
    "\n",
    "    def render_with_path(self, path):\n",
    "        \"\"\"Return maze as text grid with path marked by *.\"\"\"\n",
    "        path_set = set(path)\n",
    "        out = []\n",
    "        for i in range(len(self.maze.grid)):\n",
    "            row = []\n",
    "            for j in range(len(self.maze.grid[0])):\n",
    "                cell = self.maze.grid[i][j]\n",
    "                if (i, j) == self.maze.start:\n",
    "                    row.append('A')\n",
    "                elif (i, j) == self.maze.goal:\n",
    "                    row.append('B')\n",
    "                elif (i, j) in path_set:\n",
    "                    row.append('*')\n",
    "                elif cell == 1:\n",
    "                    row.append('█')\n",
    "                else:\n",
    "                    row.append('.')\n",
    "            out.append(row)\n",
    "        return out\n",
    "\n",
    "def pretty_print(grid):\n",
    "    for row in grid:\n",
    "        print(\" \".join(str(x) for x in row))\n",
    "    print()"
   ]
  },
  {
   "cell_type": "markdown",
   "id": "f199f8e2",
   "metadata": {},
   "source": [
    "Code to Printing the result"
   ]
  },
  {
   "cell_type": "code",
   "execution_count": 5,
   "id": "fa6489b1",
   "metadata": {},
   "outputs": [],
   "source": [
    "def pretty_print(grid):\n",
    "    for row in grid:\n",
    "        print(\" \".join(str(x) for x in row))\n",
    "    print()"
   ]
  },
  {
   "cell_type": "markdown",
   "id": "38dd09b9",
   "metadata": {},
   "source": [
    "\n",
    "Code to draw the graph"
   ]
  },
  {
   "cell_type": "code",
   "execution_count": 6,
   "id": "4a3d7cba",
   "metadata": {},
   "outputs": [],
   "source": [
    "import matplotlib.pyplot as plt\n",
    "\n",
    "def visualize_path_graph(maze, path, start, goal):\n",
    "    rows, cols = len(maze), len(maze[0])\n",
    "\n",
    "    # Convert maze into grid (1 = wall, 0 = open)\n",
    "    grid = [[1 if cell == 1 else 0 for cell in row] for row in maze]\n",
    "\n",
    "    fig, ax = plt.subplots(figsize=(6, 6))\n",
    "    ax.imshow(grid, cmap=\"binary\")  # show walls and open cells\n",
    "\n",
    "    # Extract path coordinates\n",
    "    path_x = [c for r, c in path]\n",
    "    path_y = [r for r, c in path]\n",
    "\n",
    "    # Plot path\n",
    "    ax.plot(path_x, path_y, color=\"blue\", linewidth=2, label=\"Path\")\n",
    "    ax.scatter(*start[::-1], color=\"green\", s=100, marker=\"o\", label=\"Start\")\n",
    "    ax.scatter(*goal[::-1], color=\"red\", s=100, marker=\"x\", label=\"Goal\")\n",
    "\n",
    "    ax.set_title(\"Maze Path Visualization\")\n",
    "    ax.legend()\n",
    "    plt.gca().invert_yaxis()  # to match maze orientation\n",
    "    plt.show()"
   ]
  },
  {
   "cell_type": "markdown",
   "id": "b0fe6fc6",
   "metadata": {},
   "source": [
    "\n",
    "Visualise the result and path"
   ]
  },
  {
   "cell_type": "code",
   "execution_count": 7,
   "id": "226b77b0",
   "metadata": {},
   "outputs": [
    {
     "name": "stdout",
     "output_type": "stream",
     "text": [
      "Path length: 25\n",
      "Path: [(0, 0), (0, 1), (1, 1), (2, 1), (2, 2), (2, 3), (3, 3), (4, 3), (5, 3), (6, 3), (6, 4), (6, 5), (5, 5), (5, 6), (5, 7), (6, 7), (6, 8), (6, 9), (7, 9), (8, 9), (8, 10), (8, 11), (9, 11), (10, 11), (11, 11)]\n",
      "A * █ . . . █ . . █ . .\n",
      ". * █ . █ . █ . █ . . .\n",
      "█ * * * █ . . . █ █ █ .\n",
      ". █ █ * . █ █ . . . █ .\n",
      ". . . * █ . █ █ █ . . .\n",
      "█ █ █ * █ * * * █ █ █ .\n",
      ". . █ * * * █ * * * █ .\n",
      ". █ . █ █ . █ █ █ * █ .\n",
      ". . . . . . . . █ * * *\n",
      "█ █ █ █ █ █ . █ . █ █ *\n",
      ". . . . . . . █ . . . *\n",
      ". █ █ █ █ █ █ █ █ █ █ B\n",
      "\n",
      "\n",
      "Graphical Visualization:\n"
     ]
    },
    {
     "data": {
      "image/png": "[encoded data removed]",
      "text/plain": [
       "<Figure size 600x600 with 1 Axes>"
      ]
     },
     "metadata": {},
     "output_type": "display_data"
    }
   ],
   "source": [
    "\n",
    "m = Maze(maze5, diagonal=False)\n",
    "solver = GreedyBestFirstSolver(m, heuristic=manhattan)\n",
    "path = solver.solve()\n",
    "print('Path length:', len(path))\n",
    "print('Path:', path)\n",
    "pretty_print(solver.render_with_path(path))\n",
    "\n",
    "print(\"\\nGraphical Visualization:\")\n",
    "n = Maze(maze5)\n",
    "visualize_path_graph(maze5, path, n.start, n.goal)"
   ]
  },
  {
   "cell_type": "code",
   "execution_count": 8,
   "id": "03cb3e7b",
   "metadata": {},
   "outputs": [
    {
     "name": "stdout",
     "output_type": "stream",
     "text": [
      "Path length: 21\n",
      "Path: [(0, 0), (0, 1), (1, 1), (2, 1), (2, 2), (2, 3), (3, 3), (4, 3), (5, 3), (6, 3), (6, 4), (6, 5), (5, 5), (5, 6), (5, 7), (6, 7), (6, 8), (6, 9), (7, 9), (8, 9), (9, 9)]\n",
      "A * █ . . . █ . . .\n",
      ". * █ . █ . █ . █ .\n",
      "█ * * * █ . . . █ .\n",
      ". █ █ * . █ █ . . .\n",
      ". . . * █ . █ █ █ .\n",
      "█ █ █ * █ * * * █ .\n",
      ". . █ * * * █ * * *\n",
      ". █ . █ █ . █ █ █ *\n",
      ". . . . . . . . █ *\n",
      "█ █ █ █ █ █ . █ . B\n",
      "\n"
     ]
    }
   ],
   "source": [
    "\n",
    "m = Maze(maze4, diagonal=False)\n",
    "solver = GreedyBestFirstSolver(m, heuristic=manhattan)\n",
    "path = solver.solve()\n",
    "print('Path length:', len(path))\n",
    "print('Path:', path)\n",
    "pretty_print(solver.render_with_path(path))"
   ]
  },
  {
   "cell_type": "code",
   "execution_count": 9,
   "id": "aebea27c",
   "metadata": {},
   "outputs": [
    {
     "name": "stdout",
     "output_type": "stream",
     "text": [
      "Path length: 15\n",
      "Path: [(0, 0), (1, 0), (2, 0), (3, 0), (3, 1), (3, 2), (3, 3), (4, 3), (5, 3), (5, 4), (6, 4), (6, 5), (6, 6), (6, 7), (7, 7)]\n",
      "A . █ . . . . .\n",
      "* . █ . █ █ █ .\n",
      "* █ █ . . . █ .\n",
      "* * * * █ . █ .\n",
      "█ █ █ * █ . . .\n",
      ". . . * * █ █ .\n",
      ". █ █ █ * * * *\n",
      ". . . . . █ █ B\n",
      "\n"
     ]
    }
   ],
   "source": [
    "\n",
    "m = Maze(maze3, diagonal=False)\n",
    "solver = GreedyBestFirstSolver(m, heuristic=manhattan)\n",
    "path = solver.solve()\n",
    "print('Path length:', len(path))\n",
    "print('Path:', path)\n",
    "pretty_print(solver.render_with_path(path))"
   ]
  }
 ],
 "metadata": {
  "kernelspec": {
   "display_name": "Python 3",
   "language": "python",
   "name": "python3"
  },
  "language_info": {
   "codemirror_mode": {
    "name": "ipython",
    "version": 3
   },
   "file_extension": ".py",
   "mimetype": "text/x-python",
   "name": "python",
   "nbconvert_exporter": "python",
   "pygments_lexer": "ipython3",
   "version": "3.13.4"
  }
 },
 "nbformat": 4,
 "nbformat_minor": 5
}
