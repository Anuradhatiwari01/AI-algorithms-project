{
 "cells": [
  {
   "cell_type": "markdown",
   "id": "932a61ea",
   "metadata": {},
   "source": [
    "Read input from text file and compare which search algorithm is faster"
   ]
  },
  {
   "cell_type": "code",
   "execution_count": 1,
   "id": "f3629469",
   "metadata": {},
   "outputs": [
    {
     "name": "stdout",
     "output_type": "stream",
     "text": [
      "Graph: {'u': ['v', 'x'], 'v': ['y'], 'w': ['y', 'z'], 'x': ['v'], 'y': ['x'], 'z': ['z']}\n",
      "Source: \"v\"\n",
      "Destination: \"y\"\n"
     ]
    }
   ],
   "source": [
    "with open(\"input.txt\", \"r\") as f:\n",
    "    lines = f.readlines()\n",
    "\n",
    "\n",
    "graph_str = lines[0].strip()\n",
    "source = lines[1].strip()\n",
    "destination = lines[2].strip()\n",
    "\n",
    "\n",
    "graph1 = eval(graph_str)\n",
    "\n",
    "print(\"Graph:\", graph1)\n",
    "print(\"Source:\", source)\n",
    "print(\"Destination:\", destination)\n"
   ]
  },
  {
   "cell_type": "code",
   "execution_count": 2,
   "id": "7cbc932e",
   "metadata": {},
   "outputs": [
    {
     "name": "stdout",
     "output_type": "stream",
     "text": [
      "DFS time: 2\n",
      "BFS time: 3\n"
     ]
    }
   ],
   "source": [
    "from collections import deque\n",
    "\n",
    "def compare_path(graph, source, destination):\n",
    "\n",
    "    global color, dfs_time, bfs_time, time\n",
    "\n",
    "    color = {}\n",
    "    dfs_time = {}\n",
    "    bfs_time = {}\n",
    "    time = 0\n",
    "\n",
    "    for i in graph:\n",
    "        color[i] = \"white\"\n",
    "        bfs_time[i] = 0\n",
    "        dfs_time[i] = 0\n",
    "\n",
    "    if color[source] == \"white\":\n",
    "            dfs(graph, source, destination)\n",
    "    for i in graph:\n",
    "            color[i] = \"white\"\n",
    "    time = 0\n",
    "    bfs(graph, source, destination)\n",
    "\n",
    "    print(\"DFS time:\", dfs_time[destination])\n",
    "    print(\"BFS time:\", bfs_time[destination])\n",
    "\n",
    "\n",
    "def dfs(graph, source, destination):\n",
    "    global time, dfs_time, color\n",
    "    if source == destination:\n",
    "        dfs_time[source] = time\n",
    "        return\n",
    "    \n",
    "    color[source] = \"gray\"\n",
    "    for i in graph[source]:\n",
    "        time+=1\n",
    "        if i == destination:\n",
    "            dfs_time[destination] = time\n",
    "            return\n",
    "        if color[i] == \"white\":\n",
    "            dfs(graph, i, destination )\n",
    "    color[source]= \"black\"\n",
    "\n",
    "\n",
    "def bfs(graph, source, destination):\n",
    "    global time, bfs_time, color\n",
    "    if source == destination:\n",
    "        bfs_time[destination] = time\n",
    "        return\n",
    "    color[source] = \"gray\"\n",
    "\n",
    "    Q = deque()\n",
    "    Q.append(source)\n",
    "    while Q:\n",
    "        node = Q.popleft()\n",
    "        for i in graph[node]:\n",
    "            time+=1\n",
    "            if i == destination:\n",
    "                bfs_time[destination] = time\n",
    "                return\n",
    "            if color[i] == \"white\":\n",
    "                color[i] = \"gray\"\n",
    "                Q.append(i)\n",
    "        color[node] = \"black\"\n",
    "\n",
    "compare_path(graph1, \"u\", \"y\")\n"
   ]
  }
 ],
 "metadata": {
  "kernelspec": {
   "display_name": "Python 3",
   "language": "python",
   "name": "python3"
  },
  "language_info": {
   "codemirror_mode": {
    "name": "ipython",
    "version": 3
   },
   "file_extension": ".py",
   "mimetype": "text/x-python",
   "name": "python",
   "nbconvert_exporter": "python",
   "pygments_lexer": "ipython3",
   "version": "3.13.4"
  }
 },
 "nbformat": 4,
 "nbformat_minor": 5
}
