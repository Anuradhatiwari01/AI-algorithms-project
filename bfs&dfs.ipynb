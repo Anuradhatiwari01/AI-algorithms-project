{
 "cells": [
  {
   "cell_type": "markdown",
   "id": "5b0873e0",
   "metadata": {},
   "source": [
    "# BFS"
   ]
  },
  {
   "cell_type": "code",
   "execution_count": 5,
   "id": "e72f2581",
   "metadata": {},
   "outputs": [
    {
     "name": "stdout",
     "output_type": "stream",
     "text": [
      "{'A': ['B', 'C'], 'B': ['D', 'E'], 'C': ['E', 'F'], 'D': [], 'E': ['F'], 'F': []}\n"
     ]
    }
   ],
   "source": [
    "node_list = [\"A\", \"B\", \"C\", \"D\", \"E\", \"F\"]\n",
    "\n",
    "\n",
    "graph = {\n",
    "    \"A\" : [\"B\", \"C\"],\n",
    "    \"B\" : [\"D\", 'E'],\n",
    "    \"C\" : [\"E\", \"F\"],\n",
    "    \"D\": [],\n",
    "    \"E\": [\"F\"],\n",
    "    \"F\": []\n",
    "    }\n",
    "\n",
    "print(graph)"
   ]
  },
  {
   "cell_type": "code",
   "execution_count": 7,
   "id": "025ca8ca",
   "metadata": {},
   "outputs": [
    {
     "name": "stdout",
     "output_type": "stream",
     "text": [
      "{'A': 'white', 'B': 'white', 'C': 'white', 'D': 'white', 'E': 'white', 'F': 'white'}\n",
      "{'A': inf, 'B': inf, 'C': inf, 'D': inf, 'E': inf, 'F': inf}\n",
      "{'A': None, 'B': None, 'C': None, 'D': None, 'E': None, 'F': None}\n"
     ]
    }
   ],
   "source": [
    "color = {}\n",
    "distance = {}\n",
    "parent = {}\n",
    "for node in graph:\n",
    "    color[node] = \"white\"\n",
    "    distance[node] = float(\"inf\")\n",
    "    parent[node] = None\n",
    "\n",
    "print(color)\n",
    "print(distance)\n",
    "print(parent)"
   ]
  },
  {
   "cell_type": "code",
   "execution_count": null,
   "id": "a74e2e58",
   "metadata": {},
   "outputs": [
    {
     "data": {
      "text/plain": [
       "({'A': None, 'B': 'A', 'C': 'A', 'D': 'B', 'E': 'B', 'F': 'C'},\n",
       " {'A': 0, 'B': 1, 'C': 1, 'D': 2, 'E': 2, 'F': 2},\n",
       " {'A': 'black',\n",
       "  'B': 'black',\n",
       "  'C': 'black',\n",
       "  'D': 'black',\n",
       "  'E': 'black',\n",
       "  'F': 'black'})"
      ]
     },
     "execution_count": 9,
     "metadata": {},
     "output_type": "execute_result"
    }
   ],
   "source": [
    "from collections import deque\n",
    "\n",
    "def bfs(start, graph):\n",
    "    color[start] = \"gray\"\n",
    "    distance[start] = 0\n",
    "    parent[start] = None\n",
    "\n",
    "\n",
    "    Q = deque()\n",
    "    Q.append(start)\n",
    "    while Q:\n",
    "        curr = Q.popleft()\n",
    "        for n in graph[curr]:\n",
    "            if color[n] == \"white\":\n",
    "                color[n] =\"gray\"\n",
    "                distance[n] = distance[curr]+1\n",
    "                parent[n] = curr\n",
    "                Q.append(n)\n",
    "        color[curr] = \"black\"\n",
    "    return parent , distance, color\n",
    "\n",
    "bfs(\"A\", graph)\n"
   ]
  },
  {
   "cell_type": "code",
   "execution_count": null,
   "id": "7f94a77a",
   "metadata": {},
   "outputs": [],
   "source": []
  },
  {
   "cell_type": "code",
   "execution_count": null,
   "id": "47b1adcb",
   "metadata": {},
   "outputs": [],
   "source": []
  },
  {
   "cell_type": "code",
   "execution_count": null,
   "id": "1ab7260a",
   "metadata": {},
   "outputs": [],
   "source": []
  }
 ],
 "metadata": {
  "kernelspec": {
   "display_name": "Python 3",
   "language": "python",
   "name": "python3"
  },
  "language_info": {
   "codemirror_mode": {
    "name": "ipython",
    "version": 3
   },
   "file_extension": ".py",
   "mimetype": "text/x-python",
   "name": "python",
   "nbconvert_exporter": "python",
   "pygments_lexer": "ipython3",
   "version": "3.13.4"
  }
 },
 "nbformat": 4,
 "nbformat_minor": 5
}
