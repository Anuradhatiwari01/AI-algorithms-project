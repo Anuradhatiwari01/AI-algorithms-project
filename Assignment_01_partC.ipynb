{
 "cells": [
  {
   "cell_type": "markdown",
   "id": "99794380",
   "metadata": {},
   "source": [
    "## AI Assignment_01\n",
    "<h2>Part C – Programming Task </h2>"
   ]
  },
  {
   "cell_type": "markdown",
   "id": "bacaf76f",
   "metadata": {},
   "source": [
    "# A* Search on a Maze — Experiments with Heuristics\n",
    "\n",
    "## Objectives\n",
    "- Implement A* search on a 2D maze.\n",
    "- Use three heuristics:\n",
    "  - Manhattan distance (admissible + consistent)\n",
    "  - Manhattan ×1.5 (non-admissible)\n",
    "  - Modified heuristic (admissible but inconsistent)\n",
    "- For each heuristic record:\n",
    "  - Maze (ASCII + plot)\n",
    "  - Heuristic name\n",
    "  - Admissible? / Consistent?\n",
    "  - Path found (coords + ASCII + plot)\n",
    "  - Path cost\n",
    "  - True BFS shortest cost\n",
    "  - Is path optimal?\n",
    "  - Short comment\n"
   ]
  },
  {
   "cell_type": "code",
   "execution_count": 22,
   "id": "52d36b7d",
   "metadata": {},
   "outputs": [],
   "source": [
    "import heapq\n",
    "import matplotlib.pyplot as plt\n",
    "from collections import deque\n"
   ]
  },
  {
   "cell_type": "markdown",
   "id": "7a147544",
   "metadata": {},
   "source": [
    "## Maze Class"
   ]
  },
  {
   "cell_type": "code",
   "execution_count": 23,
   "id": "0b31a90b",
   "metadata": {},
   "outputs": [],
   "source": [
    "class Maze:\n",
    "    def __init__(self, grid):\n",
    "        \"\"\"\n",
    "        grid: 2D list with:\n",
    "        - 0 = free cell\n",
    "        - 1 = wall\n",
    "        - 'A' = start\n",
    "        - 'B' = goal\n",
    "        \"\"\"\n",
    "        self.grid = grid\n",
    "        self.rows = len(grid)\n",
    "        self.cols = len(grid[0])\n",
    "        self.start, self.goal = self._find_points()\n",
    "    \n",
    "    def _find_points(self):\n",
    "        start = goal = None\n",
    "        for r in range(self.rows):\n",
    "            for c in range(self.cols):\n",
    "                if self.grid[r][c] == \"A\":\n",
    "                    start = (r, c)\n",
    "                elif self.grid[r][c] == \"B\":\n",
    "                    goal = (r, c)\n",
    "        return start, goal\n",
    "    \n",
    "    def is_valid(self, r, c):\n",
    "        return (0 <= r < self.rows and 0 <= c < self.cols and self.grid[r][c] != 1)\n",
    "    \n",
    "    def neighbors(self, r, c):\n",
    "        for dr, dc in [(1,0), (-1,0), (0,1), (0,-1)]:\n",
    "            nr, nc = r + dr, c + dc\n",
    "            if self.is_valid(nr, nc):\n",
    "                yield (nr, nc)\n",
    "    \n",
    "    def show(self, path=None, title=\"Maze\"):\n",
    "        plt.figure(figsize=(5,5))\n",
    "        for r in range(self.rows):\n",
    "            for c in range(self.cols):\n",
    "                if self.grid[r][c] == 1:\n",
    "                    plt.plot(c, self.rows-r-1, \"ks\")  # black wall\n",
    "                elif self.grid[r][c] == \"A\":\n",
    "                    plt.plot(c, self.rows-r-1, \"go\", markersize=12)  # start\n",
    "                elif self.grid[r][c] == \"B\":\n",
    "                    plt.plot(c, self.rows-r-1, \"ro\", markersize=12)  # goal\n",
    "        \n",
    "        if path:\n",
    "            xs = [c for r,c in path]\n",
    "            ys = [self.rows-r-1 for r,c in path]\n",
    "            plt.plot(xs, ys, \"b-o\", label=\"Path\")\n",
    "        \n",
    "        plt.title(title)\n",
    "        plt.grid(True)\n",
    "        plt.legend()\n",
    "        plt.show()\n"
   ]
  },
  {
   "cell_type": "markdown",
   "id": "038868f8",
   "metadata": {},
   "source": [
    "## BFS (for shortest path baseline)"
   ]
  },
  {
   "cell_type": "code",
   "execution_count": 24,
   "id": "0fce698d",
   "metadata": {},
   "outputs": [],
   "source": [
    "def bfs_shortest_path(maze):\n",
    "    queue = deque([(maze.start, [maze.start])])\n",
    "    visited = {maze.start}\n",
    "    while queue:\n",
    "        (r,c), path = queue.popleft()\n",
    "        if (r,c) == maze.goal:\n",
    "            return path\n",
    "        for nb in maze.neighbors(r,c):\n",
    "            if nb not in visited:\n",
    "                visited.add(nb)\n",
    "                queue.append((nb, path+[nb]))\n",
    "    return None\n"
   ]
  },
  {
   "cell_type": "markdown",
   "id": "ab5ea7f3",
   "metadata": {},
   "source": [
    "## Heuristics"
   ]
  },
  {
   "cell_type": "code",
   "execution_count": null,
   "id": "45af6868",
   "metadata": {},
   "outputs": [],
   "source": [
    "class Heuristics:\n",
    "    @staticmethod\n",
    "    def manhattan(node, goal):\n",
    "        return abs(node[0]-goal[0]) + abs(node[1]-goal[1])\n",
    "    \n",
    "    @staticmethod\n",
    "    def scaled_manhattan(node, goal):\n",
    "        return 1.5 * Heuristics.manhattan(node, goal)\n",
    "    \n",
    "    @staticmethod\n",
    "    def inconsistent(node, goal):\n",
    "        # Artificially inconsistent heuristic: add bonus if on even row\n",
    "        base = Heuristics.manhattan(node, goal)\n",
    "        return base + (2 if node[0] % 2 == 0 else 0)"
   ]
  },
  {
   "cell_type": "markdown",
   "id": "ed6df58d",
   "metadata": {},
   "source": [
    "The A* Algorithm Implementation"
   ]
  },
  {
   "cell_type": "markdown",
   "id": "3c452dc6",
   "metadata": {},
   "source": [
    "## **A Star Class Implentation**"
   ]
  },
  {
   "cell_type": "code",
   "execution_count": 26,
   "id": "307148b1",
   "metadata": {},
   "outputs": [],
   "source": [
    "class AStar:\n",
    "    def __init__(self, maze, heuristic):\n",
    "        self.maze = maze\n",
    "        self.heuristic = heuristic\n",
    "    \n",
    "    def search(self):\n",
    "        start, goal = self.maze.start, self.maze.goal\n",
    "        open_set = [(0 + self.heuristic(start, goal), 0, start, [start])]\n",
    "        heapq.heapify(open_set)\n",
    "        gscore = {start: 0}\n",
    "        \n",
    "        while open_set:\n",
    "            f, g, node, path = heapq.heappop(open_set)\n",
    "            \n",
    "            if node == goal:\n",
    "                return path\n",
    "            \n",
    "            for nb in self.maze.neighbors(*node):\n",
    "                tentative_g = g + 1\n",
    "                if tentative_g < gscore.get(nb, float(\"inf\")):\n",
    "                    gscore[nb] = tentative_g\n",
    "                    fscore = tentative_g + self.heuristic(nb, goal)\n",
    "                    heapq.heappush(open_set, (fscore, tentative_g, nb, path+[nb]))\n",
    "        return None\n"
   ]
  },
  {
   "cell_type": "markdown",
   "id": "d56d5107",
   "metadata": {},
   "source": [
    "### Defining Heuristic Functions"
   ]
  },
  {
   "cell_type": "code",
   "execution_count": 27,
   "id": "7d565d99",
   "metadata": {},
   "outputs": [],
   "source": [
    "# Heuristic 1: The Golden Standard (Admissible & Consistent)\n",
    "def manhattan_heuristic(current_pos, end_pos):\n",
    "    \"\"\"Calculates the Manhattan distance between two points.\"\"\"\n",
    "    return abs(current_pos[0] - end_pos[0]) + abs(current_pos[1] - end_pos[1])\n",
    "\n",
    "# Heuristic 2: The Pessimist (Non-Admissible)\n",
    "def non_admissible_heuristic(current_pos, end_pos):\n",
    "    \"\"\"An example of a non-admissible heuristic that overestimates the cost.\"\"\"\n",
    "    return manhattan_heuristic(current_pos, end_pos) * 1.5 # Multiplying can cause overestimation\n",
    "\n",
    "# Heuristic 3: The Unreliable Guide (Inconsistent)\n",
    "def inconsistent_heuristic(current_pos, end_pos):\n",
    "    \"\"\"An example of an inconsistent heuristic with a misleading 'trap' cell.\"\"\"\n",
    "    # This creates an illogical dip in the heuristic landscape at (5, 5)\n",
    "    if current_pos == (5, 5):\n",
    "        return 1 # A very low, misleading value\n",
    "    return manhattan_heuristic(current_pos, end_pos)"
   ]
  },
  {
   "cell_type": "markdown",
   "id": "1207ab98",
   "metadata": {},
   "source": [
    "## Maze and Visualization "
   ]
  },
  {
   "cell_type": "code",
   "execution_count": 28,
   "id": "a6cf0cd6",
   "metadata": {},
   "outputs": [],
   "source": [
    "# Our sample maze. 0 = path, 1 = wall.\n",
    "# A more complex maze to better show the differences\n",
    "maze = [\n",
    "    [0, 0, 0, 0, 0, 0, 1, 0, 0, 0],\n",
    "    [0, 1, 1, 1, 0, 0, 1, 0, 1, 0],\n",
    "    [0, 0, 0, 1, 0, 0, 0, 0, 1, 0],\n",
    "    [1, 1, 0, 1, 1, 1, 1, 0, 1, 0],\n",
    "    [0, 0, 0, 0, 0, 0, 1, 0, 0, 0],\n",
    "    [0, 1, 1, 1, 1, 1, 1, 0, 1, 0], # The 'trap' for the inconsistent heuristic will be at (5,5)\n",
    "    [0, 0, 0, 0, 0, 0, 0, 0, 1, 0],\n",
    "    [0, 1, 1, 1, 0, 1, 1, 1, 1, 0],\n",
    "    [0, 1, 0, 0, 0, 0, 0, 0, 0, 0],\n",
    "    [0, 0, 0, 1, 1, 1, 1, 1, 1, 0]\n",
    "]\n",
    "\n",
    "start_position = (0, 0)\n",
    "end_position = (9, 9)\n",
    "OPTIMAL_COST = 20 # The true shortest path cost for this maze\n",
    "\n",
    "def visualize_path(maze, path, title):\n",
    "    \"\"\"Visualizes the maze and the path found by the algorithm.\"\"\"\n",
    "    # Create a copy of the maze to draw on\n",
    "    vis_maze = [row[:] for row in maze]\n",
    "    \n",
    "    if path:\n",
    "        # Mark the path cells with a different value (e.g., 2)\n",
    "        for step in path:\n",
    "            if vis_maze[step[0]][step[1]] == 0:\n",
    "                vis_maze[step[0]][step[1]] = 2\n",
    "        # Mark start and end with special values (e.g., 3 and 4)\n",
    "        vis_maze[path[0][0]][path[0][1]] = 3 # Start\n",
    "        vis_maze[path[-1][0]][path[-1][1]] = 4 # End\n",
    "    \n",
    "    plt.figure(figsize=(8, 8))\n",
    "    # Use a color map to distinguish path, walls, start, and end\n",
    "    plt.imshow(vis_maze, cmap='magma')\n",
    "    plt.title(title, fontsize=16)\n",
    "    plt.xticks([]), plt.yticks([]) # Hide axis ticks\n",
    "    plt.show()"
   ]
  },
  {
   "cell_type": "markdown",
   "id": "679565c2",
   "metadata": {},
   "source": [
    "## Utility to Check Admissibility & Consistency"
   ]
  },
  {
   "cell_type": "code",
   "execution_count": 29,
   "id": "98abd1ce",
   "metadata": {},
   "outputs": [],
   "source": [
    "def check_admissibility(maze, heuristic):\n",
    "    shortest = {}\n",
    "    queue = deque([(maze.start, 0)])\n",
    "    visited = {maze.start}\n",
    "    while queue:\n",
    "        node, dist = queue.popleft()\n",
    "        shortest[node] = dist\n",
    "        for nb in maze.neighbors(*node):\n",
    "            if nb not in visited:\n",
    "                visited.add(nb)\n",
    "                queue.append((nb, dist+1))\n",
    "    \n",
    "    for node, true_d in shortest.items():\n",
    "        h = heuristic(node, maze.goal)\n",
    "        if h > true_d:\n",
    "            return False\n",
    "    return True\n",
    "\n",
    "def check_consistency(maze, heuristic):\n",
    "    for r in range(maze.rows):\n",
    "        for c in range(maze.cols):\n",
    "            if not maze.is_valid(r,c): \n",
    "                continue\n",
    "            for nb in maze.neighbors(r,c):\n",
    "                h1 = heuristic((r,c), maze.goal)\n",
    "                h2 = heuristic(nb, maze.goal)\n",
    "                if h1 > 1 + h2:  # triangle inequality violated\n",
    "                    return False\n",
    "    return True\n"
   ]
  },
  {
   "cell_type": "markdown",
   "id": "a587277b",
   "metadata": {},
   "source": [
    "## Runnig the experiments"
   ]
  },
  {
   "cell_type": "code",
   "execution_count": 30,
   "id": "89bdd8d5",
   "metadata": {},
   "outputs": [],
   "source": [
    "def run_experiment(name, maze, heuristic):\n",
    "    print(f\"===== {name} =====\")\n",
    "    astar = AStar(maze, heuristic)\n",
    "    path = astar.search()\n",
    "    bfs_path = bfs_shortest_path(maze)\n",
    "    \n",
    "    admissible = check_admissibility(maze, heuristic)\n",
    "    consistent = check_consistency(maze, heuristic)\n",
    "    \n",
    "    print(\"Heuristic:\", name)\n",
    "    print(\"Admissible?\", admissible)\n",
    "    print(\"Consistent?\", consistent)\n",
    "    print(\"Path found:\", path)\n",
    "    print(\"Path cost:\", len(path)-1 if path else None)\n",
    "    print(\"True shortest cost:\", len(bfs_path)-1 if bfs_path else None)\n",
    "    print(\"Is optimal?\", (len(path) == len(bfs_path)) if path else False)\n",
    "    print()\n",
    "    \n",
    "    maze.show(path, title=f\"{name} Path\")\n"
   ]
  },
  {
   "cell_type": "markdown",
   "id": "fcf0a389",
   "metadata": {},
   "source": [
    "## Define Maze and Test"
   ]
  },
  {
   "cell_type": "code",
   "execution_count": 31,
   "id": "eaff1f66",
   "metadata": {},
   "outputs": [
    {
     "name": "stdout",
     "output_type": "stream",
     "text": [
      "===== Manhattan =====\n",
      "Heuristic: Manhattan\n",
      "Admissible? False\n",
      "Consistent? True\n",
      "Path found: [(0, 0), (0, 1), (1, 1), (2, 1), (2, 2), (2, 3), (3, 3), (4, 3), (5, 3), (6, 3), (6, 4), (6, 5), (5, 5), (5, 6), (5, 7), (6, 7), (6, 8), (6, 9), (7, 9), (8, 9), (8, 10), (8, 11), (9, 11), (10, 11), (11, 11)]\n",
      "Path cost: 24\n",
      "True shortest cost: 24\n",
      "Is optimal? True\n",
      "\n"
     ]
    },
    {
     "data": {
      "image/png": "[encoded data removed]",
      "text/plain": [
       "<Figure size 500x500 with 1 Axes>"
      ]
     },
     "metadata": {},
     "output_type": "display_data"
    },
    {
     "name": "stdout",
     "output_type": "stream",
     "text": [
      "===== Scaled Manhattan (×1.5) =====\n",
      "Heuristic: Scaled Manhattan (×1.5)\n",
      "Admissible? False\n",
      "Consistent? False\n",
      "Path found: [(0, 0), (0, 1), (1, 1), (2, 1), (2, 2), (2, 3), (3, 3), (4, 3), (5, 3), (6, 3), (6, 4), (6, 5), (5, 5), (5, 6), (5, 7), (6, 7), (6, 8), (6, 9), (7, 9), (8, 9), (8, 10), (8, 11), (9, 11), (10, 11), (11, 11)]\n",
      "Path cost: 24\n",
      "True shortest cost: 24\n",
      "Is optimal? True\n",
      "\n"
     ]
    },
    {
     "data": {
      "image/png": "[encoded data removed]",
      "text/plain": [
       "<Figure size 500x500 with 1 Axes>"
      ]
     },
     "metadata": {},
     "output_type": "display_data"
    },
    {
     "name": "stdout",
     "output_type": "stream",
     "text": [
      "===== Inconsistent =====\n",
      "Heuristic: Inconsistent\n",
      "Admissible? False\n",
      "Consistent? False\n",
      "Path found: [(0, 0), (1, 0), (1, 1), (2, 1), (2, 2), (2, 3), (3, 3), (4, 3), (5, 3), (6, 3), (6, 4), (6, 5), (5, 5), (5, 6), (5, 7), (6, 7), (6, 8), (6, 9), (7, 9), (8, 9), (8, 10), (8, 11), (9, 11), (10, 11), (11, 11)]\n",
      "Path cost: 24\n",
      "True shortest cost: 24\n",
      "Is optimal? True\n",
      "\n"
     ]
    },
    {
     "data": {
      "image/png": "[encoded data removed]",
      "text/plain": [
       "<Figure size 500x500 with 1 Axes>"
      ]
     },
     "metadata": {},
     "output_type": "display_data"
    }
   ],
   "source": [
    "maze_grid = [\n",
    "    ['A', 0, 1, 0, 0, 0, 1, 0, 0, 1, 0, 0],\n",
    "    [0, 0, 1, 0, 1, 0, 1, 0, 1, 0, 0, 0],\n",
    "    [1, 0, 0, 0, 1, 0, 0, 0, 1, 1, 1, 0],\n",
    "    [0, 1, 1, 0, 0, 1, 1, 0, 0, 0, 1, 0],\n",
    "    [0, 0, 0, 0, 1, 0, 1, 1, 1, 0, 0, 0],\n",
    "    [1, 1, 1, 0, 1, 0, 0, 0, 1, 1, 1, 0],\n",
    "    [0, 0, 1, 0, 0, 0, 1, 0, 0, 0, 1, 0],\n",
    "    [0, 1, 0, 1, 1, 0, 1, 1, 1, 0, 1, 0],\n",
    "    [0, 0, 0, 0, 0, 0, 0, 0, 1, 0, 0, 0],\n",
    "    [1, 1, 1, 1, 1, 1, 0, 1, 0, 1, 1, 0],\n",
    "    [0, 0, 0, 0, 0, 0, 0, 1, 0, 0, 0, 0],\n",
    "    [0, 1, 1, 1, 1, 1, 1, 1, 1, 1, 1, 'B'],\n",
    "]\n",
    "\n",
    "maze = Maze(maze_grid)\n",
    "\n",
    "# Run experiments\n",
    "run_experiment(\"Manhattan\", maze, Heuristics.manhattan)\n",
    "run_experiment(\"Scaled Manhattan (×1.5)\", maze, Heuristics.scaled_manhattan)\n",
    "run_experiment(\"Inconsistent\", maze, Heuristics.inconsistent)\n"
   ]
  }
 ],
 "metadata": {
  "kernelspec": {
   "display_name": "Python 3",
   "language": "python",
   "name": "python3"
  },
  "language_info": {
   "codemirror_mode": {
    "name": "ipython",
    "version": 3
   },
   "file_extension": ".py",
   "mimetype": "text/x-python",
   "name": "python",
   "nbconvert_exporter": "python",
   "pygments_lexer": "ipython3",
   "version": "3.13.4"
  }
 },
 "nbformat": 4,
 "nbformat_minor": 5
}
